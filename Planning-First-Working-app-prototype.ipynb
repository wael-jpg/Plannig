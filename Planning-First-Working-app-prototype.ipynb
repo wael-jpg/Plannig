{
 "cells": [
  {
   "cell_type": "code",
   "execution_count": 76,
   "id": "aad54a28",
   "metadata": {},
   "outputs": [],
   "source": [
    "import tkinter as tk\n",
    "import pandas as pd"
   ]
  },
  {
   "cell_type": "markdown",
   "id": "510fddc4",
   "metadata": {},
   "source": [
    "# After having loaded the relevant libraries we explore the csv file"
   ]
  },
  {
   "cell_type": "code",
   "execution_count": 77,
   "id": "34ee0a26",
   "metadata": {},
   "outputs": [],
   "source": [
    "df = pd.read_csv('D:\\Téléchargements\\\\testing.csv', delimiter=';',encoding='latin1',low_memory=False)\n",
    "\n"
   ]
  },
  {
   "cell_type": "code",
   "execution_count": 78,
   "id": "68d5b1d6",
   "metadata": {},
   "outputs": [
    {
     "name": "stdout",
     "output_type": "stream",
     "text": [
      "             Name  04/07/2022  05/07/2022  06/07/2022  07/07/2022  08/07/2022  \\\n",
      "0      Employé 28         8.0         8.0         8.0         8.0         8.0   \n",
      "1      Employé 88         0.0         0.0         0.0         0.0         0.0   \n",
      "2     Employé 127         8.0         8.0         8.0         8.0         8.0   \n",
      "3     Employé 125         8.0         8.0         8.0         8.0         8.0   \n",
      "4      Employé 19         8.0         8.0         8.0         8.0         8.0   \n",
      "...           ...         ...         ...         ...         ...         ...   \n",
      "2128          NaN         NaN         NaN         NaN         NaN         NaN   \n",
      "2129          NaN         NaN         NaN         NaN         NaN         NaN   \n",
      "2130          NaN         NaN         NaN         NaN         NaN         NaN   \n",
      "2131          NaN         NaN         NaN         NaN         NaN         NaN   \n",
      "2132          NaN         NaN         NaN         NaN         NaN         NaN   \n",
      "\n",
      "      11/07/2022  12/07/2022  13/07/2022  14/07/2022  ...  Unnamed: 552  \\\n",
      "0            8.0         8.0         8.0         8.0  ...           NaN   \n",
      "1            0.0         0.0         0.0         0.0  ...           NaN   \n",
      "2            8.0         8.0         8.0         8.0  ...           NaN   \n",
      "3            8.0         8.0         8.0         8.0  ...           NaN   \n",
      "4            8.0         8.0         8.0         8.0  ...           NaN   \n",
      "...          ...         ...         ...         ...  ...           ...   \n",
      "2128         NaN         NaN         NaN         NaN  ...           NaN   \n",
      "2129         NaN         NaN         NaN         NaN  ...           NaN   \n",
      "2130         NaN         NaN         NaN         NaN  ...           NaN   \n",
      "2131         NaN         NaN         NaN         NaN  ...           NaN   \n",
      "2132         NaN         NaN         NaN         NaN  ...           NaN   \n",
      "\n",
      "      Unnamed: 553  Unnamed: 554  Unnamed: 555  Unnamed: 556  Unnamed: 557  \\\n",
      "0              NaN           NaN           NaN           NaN           NaN   \n",
      "1              NaN           NaN           NaN           NaN           NaN   \n",
      "2              NaN           NaN           NaN           NaN           NaN   \n",
      "3              NaN           NaN           NaN           NaN           NaN   \n",
      "4              NaN           NaN           NaN           NaN           NaN   \n",
      "...            ...           ...           ...           ...           ...   \n",
      "2128           NaN           NaN           NaN           NaN           NaN   \n",
      "2129           NaN           NaN           NaN           NaN           NaN   \n",
      "2130           NaN           NaN           NaN           NaN           NaN   \n",
      "2131           NaN           NaN           NaN           NaN           NaN   \n",
      "2132           NaN           NaN           NaN           NaN           NaN   \n",
      "\n",
      "      Unnamed: 558  Unnamed: 559  Unnamed: 560  Unnamed: 561  \n",
      "0              NaN           NaN           NaN           NaN  \n",
      "1              NaN           NaN           NaN           NaN  \n",
      "2              NaN           NaN           NaN           NaN  \n",
      "3              NaN           NaN           NaN           NaN  \n",
      "4              NaN           NaN           NaN           NaN  \n",
      "...            ...           ...           ...           ...  \n",
      "2128           NaN           NaN           NaN           NaN  \n",
      "2129           NaN           NaN           NaN           NaN  \n",
      "2130           NaN           NaN           NaN           NaN  \n",
      "2131           NaN           NaN           NaN           NaN  \n",
      "2132           NaN           NaN           NaN           NaN  \n",
      "\n",
      "[2133 rows x 562 columns]\n"
     ]
    }
   ],
   "source": [
    "print (df)"
   ]
  },
  {
   "cell_type": "code",
   "execution_count": 80,
   "id": "372f3c39",
   "metadata": {
    "scrolled": true
   },
   "outputs": [
    {
     "name": "stdout",
     "output_type": "stream",
     "text": [
      "Enter the employee name: Employé 105\n",
      "Enter the date (DD/MM/YYYY): 28/12/2023\n",
      " Employé 105 is free on 28/12/2023\n"
     ]
    }
   ],
   "source": [
    "# Prompt the user to enter the employee name\n",
    "employee_name = input(\"Enter the employee name: \")\n",
    "\n",
    "# Prompt the user to enter the date\n",
    "date = input(\"Enter the date (DD/MM/YYYY): \")\n",
    "\n",
    "# Check if the employee name exists in the DataFrame\n",
    "if employee_name in df['Name'].values:\n",
    "    # Check if the date exists in the DataFrame\n",
    "    if date in df.columns:\n",
    "        # Get the task hours for the given employee and date\n",
    "        task_hours = df.loc[df['Name'] == employee_name, date].values[0]\n",
    "        \n",
    "        if task_hours == 8:\n",
    "            print(f\" {employee_name} has a task on {date}\")\n",
    "        elif task_hours == 0:\n",
    "            print(f\" {employee_name} is free on {date}\")\n",
    "        else:\n",
    "            print(f\" {employee_name} has {task_hours} hours of work on {date}\")\n",
    "    else:\n",
    "        print(\"Invalid date. Please try again.\")\n",
    "else:\n",
    "    print(\"Employee name not found. Please try again.\")\n"
   ]
  },
  {
   "cell_type": "markdown",
   "id": "d6619393",
   "metadata": {},
   "source": [
    "# Our app\n",
    "\n",
    "### works in a very simple manner, it will prompt the user to insert the employee name, in our dataset the employees are labelled 'employé xxx...etc', and then a date. the date has to be inserted in the format mentioned in the window for the process to properly work. \n",
    "\n"
   ]
  },
  {
   "cell_type": "code",
   "execution_count": null,
   "id": "223e83d0",
   "metadata": {},
   "outputs": [],
   "source": [
    "# Function to handle the button click event\n",
    "def check_task():\n",
    "    # Get the employee name and date from the entry fields\n",
    "    employee_name = employee_entry.get()\n",
    "    date = date_entry.get()\n",
    "\n",
    "    # Check if the employee name exists in the DataFrame\n",
    "    if employee_name in df['Name'].values:\n",
    "        # Check if the date exists in the DataFrame\n",
    "        if date in df.columns:\n",
    "            # Get the task hours for the given employee and date\n",
    "            task_hours = df.loc[df['Name'] == employee_name, date].values[0]\n",
    "            \n",
    "            if task_hours == 8 or task_hours == 16:\n",
    "                result_label.config(text=f\"{employee_name} has a task on {date}\")\n",
    "            elif task_hours == 0:\n",
    "                result_label.config(text=f\"{employee_name} is free on {date}\")\n",
    "            else:\n",
    "                result_label.config(text=f\"{employee_name} has {task_hours} hours of work on {date}\")\n",
    "        else:\n",
    "            result_label.config(text=\"Invalid date. Please try again.\")\n",
    "    else:\n",
    "        result_label.config(text=\"Employee name not found. Please try again.\")\n",
    "\n",
    "# Create the main window\n",
    "window = tk.Tk()\n",
    "\n",
    "# Create label and entry for employee name\n",
    "employee_label = tk.Label(window, text=\"Enter the employee name:\")\n",
    "employee_label.pack()\n",
    "employee_entry = tk.Entry(window)\n",
    "employee_entry.pack()\n",
    "\n",
    "# Create label and entry for date\n",
    "date_label = tk.Label(window, text=\"Enter the date (DD/MM/YYYY):\")\n",
    "date_label.pack()\n",
    "date_entry = tk.Entry(window)\n",
    "date_entry.pack()\n",
    "\n",
    "# Create button to check the task\n",
    "check_button = tk.Button(window, text=\"Check Task\", command=check_task)\n",
    "check_button.pack()\n",
    "\n",
    "# Create label to display the result\n",
    "result_label = tk.Label(window)\n",
    "result_label.pack()\n",
    "\n",
    "# Start the main event loop\n",
    "window.mainloop()\n"
   ]
  },
  {
   "cell_type": "code",
   "execution_count": null,
   "id": "7a799026",
   "metadata": {},
   "outputs": [],
   "source": []
  }
 ],
 "metadata": {
  "kernelspec": {
   "display_name": "Python 3 (ipykernel)",
   "language": "python",
   "name": "python3"
  },
  "language_info": {
   "codemirror_mode": {
    "name": "ipython",
    "version": 3
   },
   "file_extension": ".py",
   "mimetype": "text/x-python",
   "name": "python",
   "nbconvert_exporter": "python",
   "pygments_lexer": "ipython3",
   "version": "3.10.9"
  }
 },
 "nbformat": 4,
 "nbformat_minor": 5
}
